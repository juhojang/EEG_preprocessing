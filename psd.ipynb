import mne
import numpy as np
import matplotlib.pyplot as plt
import seaborn as sns
from scipy import signal
raw=mne.io.read_raw_fif('D:\Dataset\P01-raw.fif')
x=raw.get_data('Fp1')
raw.plot()
sf=256.
time=np.arange(x.size)/sf

x=x.reshape(2478166,1)

fig, ax = plt.subplots(1,1,figsize=(12,4))
plt.plot(x)
plt.xlabel('time')
plt.ylabel('voltage')
plt.title('Fp1 voltage per second')
plt.show()
win=sf*4
fs = 100
x=x.reshape(1,-1)
freqs,psd=signal.welch(x,fs,nperseg=win)


psd=psd.reshape(-1,1)

plt.figure(figsize=(8,4))
plt.plot(freqs,psd)
plt.xlabel('Frequency(Hz)')
plt.ylabel('PSD(V^2/Hz)')
plt.ylim([0,psd.max()*1.1])
plt.title("Welch's periodogram")
plt.xlim([0,freqs.max()])
plt.show()
low, high=0.5,4

delta=np.logical_and(freqs>=low,freqs<=high)

plt.plot(freqs,psd)
plt.xlim([10,12])
plt.show()
